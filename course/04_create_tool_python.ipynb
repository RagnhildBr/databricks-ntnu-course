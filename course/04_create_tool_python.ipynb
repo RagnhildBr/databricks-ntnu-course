{
 "cells": [
  {
   "cell_type": "code",
   "execution_count": null,
   "id": "0527ffc8",
   "metadata": {
    "vscode": {
     "languageId": "plaintext"
    }
   },
   "outputs": [],
   "source": [
    "%pip install -qq unitycatalog-ai[databricks] unitycatalog-langchain[databricks] databricks-langchain -U\n",
    "dbutils.library.restartPython()"
   ]
  },
  {
   "cell_type": "code",
   "execution_count": null,
   "id": "751a5c0f",
   "metadata": {
    "vscode": {
     "languageId": "plaintext"
    }
   },
   "outputs": [],
   "source": [
    "\n",
    "def sum_two(number_1: float, number_2: float) -> float:\n",
    "    \"\"\"\n",
    "    Adds two numbers and returns the sum.\n",
    "    Args:\n",
    "      number_1 (float): First addend.\n",
    "      number_2 (float): Second addend.\n",
    "    Returns:\n",
    "      float: Sum of the inputs.\n",
    "    \"\"\"\n",
    "    # Example of importing inside the function if needed:\n",
    "    # import math\n",
    "    return number_1 + number_2"
   ]
  },
  {
   "cell_type": "code",
   "execution_count": null,
   "id": "57e5c884",
   "metadata": {
    "vscode": {
     "languageId": "plaintext"
    }
   },
   "outputs": [],
   "source": [
    "from unitycatalog.ai.core.databricks import DatabricksFunctionClient\n",
    " \n",
    "client = DatabricksFunctionClient()  # default serverless execution for tools\n",
    " \n",
    "CATALOG = \"knowit\"        # <- change to your catalog\n",
    "SCHEMA  = \"agents\"     # <- change to your schema\n",
    " \n",
    "function_info = client.create_python_function(\n",
    "    func=sum_two,\n",
    "    catalog=CATALOG,\n",
    "    schema=SCHEMA,\n",
    "    replace=True,\n",
    ")"
   ]
  }
 ],
 "metadata": {
  "language_info": {
   "name": "python"
  }
 },
 "nbformat": 4,
 "nbformat_minor": 5
}
