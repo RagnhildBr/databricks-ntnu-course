{
 "cells": [
  {
   "cell_type": "code",
   "execution_count": 0,
   "metadata": {
    "application/vnd.databricks.v1+cell": {
     "cellMetadata": {
      "byteLimit": 2048000,
      "rowLimit": 10000
     },
     "inputWidgets": {},
     "nuid": "7293de33-8503-43fd-bcdd-6fe09398fa97",
     "showTitle": true,
     "tableResultSettingsMap": {},
     "title": "Installer dependencies"
    }
   },
   "outputs": [],
   "source": [
    "%pip install -U -qqqq backoff databricks-openai uv databricks-agents mlflow-skinny[databricks]\n",
    "dbutils.library.restartPython()"
   ]
  },
  {
   "cell_type": "code",
   "execution_count": 0,
   "metadata": {
    "application/vnd.databricks.v1+cell": {
     "cellMetadata": {
      "byteLimit": 2048000,
      "rowLimit": 10000
     },
     "inputWidgets": {},
     "nuid": "fe3414ab-3dc3-429c-beb3-0616723f1b89",
     "showTitle": true,
     "tableResultSettingsMap": {},
     "title": "Hent globale variabler"
    }
   },
   "outputs": [],
   "source": [
    "%run ./00_config"
   ]
  },
  {
   "cell_type": "code",
   "execution_count": 0,
   "metadata": {
    "application/vnd.databricks.v1+cell": {
     "cellMetadata": {
      "byteLimit": 2048000,
      "rowLimit": 10000
     },
     "inputWidgets": {},
     "nuid": "ca352a45-1b6c-4c49-bc9f-2cf20d6a9053",
     "showTitle": true,
     "tableResultSettingsMap": {},
     "title": "Definer agenten"
    }
   },
   "outputs": [],
   "source": [
    "%%writefile agent.py\n",
    "import json\n",
    "from typing import Any, Callable, Generator, Optional\n",
    "from uuid import uuid4\n",
    "import warnings\n",
    "\n",
    "import backoff\n",
    "import mlflow\n",
    "import openai\n",
    "from databricks.sdk import WorkspaceClient\n",
    "from databricks_openai import UCFunctionToolkit, VectorSearchRetrieverTool\n",
    "from mlflow.entities import SpanType\n",
    "from mlflow.pyfunc import ResponsesAgent\n",
    "from mlflow.types.responses import (\n",
    "    ResponsesAgentRequest,\n",
    "    ResponsesAgentResponse,\n",
    "    ResponsesAgentStreamEvent,\n",
    ")\n",
    "from openai import OpenAI\n",
    "from pydantic import BaseModel\n",
    "from unitycatalog.ai.core.base import get_uc_function_client\n",
    "\n",
    "\n",
    "LLM_ENDPOINT_NAME = \"databricks-claude-sonnet-4\"\n",
    "\n",
    "# TODO: Lag et bedre systemprompt\n",
    "SYSTEM_PROMPT = \"\"\"\n",
    "You are a helpful assistant.\n",
    "\"\"\"\n",
    "\n",
    "\n",
    "class ToolInfo(BaseModel):\n",
    "    \"\"\"\n",
    "    Class representing a tool for the agent.\n",
    "    - \"name\" (str): The name of the tool.\n",
    "    - \"spec\" (dict): JSON description of the tool (matches OpenAI Responses format)\n",
    "    - \"exec_fn\" (Callable): Function that implements the tool logic\n",
    "    \"\"\"\n",
    "\n",
    "    name: str\n",
    "    spec: dict\n",
    "    exec_fn: Callable\n",
    "\n",
    "\n",
    "def create_tool_info(tool_spec, exec_fn_param: Optional[Callable] = None):\n",
    "    tool_spec[\"function\"].pop(\"strict\", None)\n",
    "    tool_name = tool_spec[\"function\"][\"name\"]\n",
    "    udf_name = tool_name.replace(\"__\", \".\")\n",
    "\n",
    "    # Define a wrapper that accepts kwargs for the UC tool call,\n",
    "    # then passes them to the UC tool execution client\n",
    "    def exec_fn(**kwargs):\n",
    "        function_result = uc_function_client.execute_function(udf_name, kwargs)\n",
    "        if function_result.error is not None:\n",
    "            return function_result.error\n",
    "        else:\n",
    "            return function_result.value\n",
    "    return ToolInfo(name=tool_name, spec=tool_spec, exec_fn=exec_fn_param or exec_fn)\n",
    "\n",
    "\n",
    "TOOL_INFOS = []\n",
    "\n",
    "# You can use UDFs in Unity Catalog as agent tools\n",
    "# TODO: Legg til verktøy\n",
    "UC_TOOL_NAMES = []\n",
    "\n",
    "uc_toolkit = UCFunctionToolkit(function_names=UC_TOOL_NAMES)\n",
    "uc_function_client = get_uc_function_client()\n",
    "for tool_spec in uc_toolkit.tools:\n",
    "    TOOL_INFOS.append(create_tool_info(tool_spec))\n",
    "\n",
    "VECTOR_SEARCH_TOOLS = []\n",
    "# TODO: Legg til en vektorindeks\n",
    "# VECTOR_SEARCH_TOOLS.append(\n",
    "#         VectorSearchRetrieverTool(\n",
    "#             index_name=\"\",\n",
    "#             tool_description=\"\"\n",
    "#         )\n",
    "#     )\n",
    "for vs_tool in VECTOR_SEARCH_TOOLS:\n",
    "    TOOL_INFOS.append(create_tool_info(vs_tool.tool, vs_tool.execute))\n",
    "\n",
    "\n",
    "\n",
    "class ToolCallingAgent(ResponsesAgent):\n",
    "    \"\"\"\n",
    "    Class representing a tool-calling Agent\n",
    "    \"\"\"\n",
    "\n",
    "    def __init__(self, llm_endpoint: str, tools: list[ToolInfo]):\n",
    "        \"\"\"Initializes the ToolCallingAgent with tools.\"\"\"\n",
    "        self.llm_endpoint = llm_endpoint\n",
    "        self.workspace_client = WorkspaceClient()\n",
    "        self.model_serving_client: OpenAI = (\n",
    "            self.workspace_client.serving_endpoints.get_open_ai_client()\n",
    "        )\n",
    "        self._tools_dict = {tool.name: tool for tool in tools}\n",
    "\n",
    "    def get_tool_specs(self) -> list[dict]:\n",
    "        \"\"\"Returns tool specifications in the format OpenAI expects.\"\"\"\n",
    "        return [tool_info.spec for tool_info in self._tools_dict.values()]\n",
    "\n",
    "    @mlflow.trace(span_type=SpanType.TOOL)\n",
    "    def execute_tool(self, tool_name: str, args: dict) -> Any:\n",
    "        \"\"\"Executes the specified tool with the given arguments.\"\"\"\n",
    "        return self._tools_dict[tool_name].exec_fn(**args)\n",
    "\n",
    "    def call_llm(self, messages: list[dict[str, Any]]) -> Generator[dict[str, Any], None, None]:\n",
    "        with warnings.catch_warnings():\n",
    "            warnings.filterwarnings(\"ignore\", message=\"PydanticSerializationUnexpectedValue\")\n",
    "            for chunk in self.model_serving_client.chat.completions.create(\n",
    "                model=self.llm_endpoint,\n",
    "                messages=self.prep_msgs_for_cc_llm(messages),\n",
    "                tools=self.get_tool_specs(),\n",
    "                stream=True,\n",
    "            ):\n",
    "                chunk_dict = chunk.to_dict()\n",
    "                if len(chunk_dict.get(\"choices\", [])) > 0:\n",
    "                    yield chunk_dict\n",
    "\n",
    "    def handle_tool_call(\n",
    "        self,\n",
    "        tool_call: dict[str, Any],\n",
    "        messages: list[dict[str, Any]],\n",
    "    ) -> ResponsesAgentStreamEvent:\n",
    "        \"\"\"\n",
    "        Execute tool calls, add them to the running message history, and return a ResponsesStreamEvent w/ tool output\n",
    "        \"\"\"\n",
    "        args = json.loads(tool_call[\"arguments\"])\n",
    "        result = str(self.execute_tool(tool_name=tool_call[\"name\"], args=args))\n",
    "\n",
    "        tool_call_output = self.create_function_call_output_item(tool_call[\"call_id\"], result)\n",
    "        messages.append(tool_call_output)\n",
    "        return ResponsesAgentStreamEvent(type=\"response.output_item.done\", item=tool_call_output)\n",
    "\n",
    "    def call_and_run_tools(\n",
    "        self,\n",
    "        messages: list[dict[str, Any]],\n",
    "        max_iter: int = 10,\n",
    "    ) -> Generator[ResponsesAgentStreamEvent, None, None]:\n",
    "        for _ in range(max_iter):\n",
    "            last_msg = messages[-1]\n",
    "            if last_msg.get(\"role\", None) == \"assistant\":\n",
    "                return\n",
    "            elif last_msg.get(\"type\", None) == \"function_call\":\n",
    "                yield self.handle_tool_call(last_msg, messages)\n",
    "            else:\n",
    "                yield from self.output_to_responses_items_stream(\n",
    "                    chunks=self.call_llm(messages), aggregator=messages\n",
    "                )\n",
    "\n",
    "        yield ResponsesAgentStreamEvent(\n",
    "            type=\"response.output_item.done\",\n",
    "            item=self.create_text_output_item(\"Max iterations reached. Stopping.\", str(uuid4())),\n",
    "        )\n",
    "\n",
    "    def predict(self, request: ResponsesAgentRequest) -> ResponsesAgentResponse:\n",
    "        outputs = [\n",
    "            event.item\n",
    "            for event in self.predict_stream(request)\n",
    "            if event.type == \"response.output_item.done\"\n",
    "        ]\n",
    "        return ResponsesAgentResponse(output=outputs, custom_outputs=request.custom_inputs)\n",
    "\n",
    "    def predict_stream(\n",
    "        self, request: ResponsesAgentRequest\n",
    "    ) -> Generator[ResponsesAgentStreamEvent, None, None]:\n",
    "        messages = self.prep_msgs_for_cc_llm([i.model_dump() for i in request.input])\n",
    "        if SYSTEM_PROMPT:\n",
    "            messages.insert(0, {\"role\": \"system\", \"content\": SYSTEM_PROMPT})\n",
    "        yield from self.call_and_run_tools(messages=messages)\n",
    "\n",
    "\n",
    "# Log the model using MLflow\n",
    "mlflow.openai.autolog()\n",
    "AGENT = ToolCallingAgent(llm_endpoint=LLM_ENDPOINT_NAME, tools=TOOL_INFOS)\n",
    "mlflow.models.set_model(AGENT)"
   ]
  },
  {
   "cell_type": "code",
   "execution_count": 0,
   "metadata": {
    "application/vnd.databricks.v1+cell": {
     "cellMetadata": {
      "byteLimit": 2048000,
      "rowLimit": 10000
     },
     "inputWidgets": {},
     "nuid": "6d74fffa-de93-4430-b7e6-2e9d4e3b5a2e",
     "showTitle": true,
     "tableResultSettingsMap": {},
     "title": "Checkpoint"
    }
   },
   "outputs": [],
   "source": [
    "input(\"Vent på resten av klassen! (Enter når klar)\")"
   ]
  },
  {
   "cell_type": "code",
   "execution_count": 0,
   "metadata": {
    "application/vnd.databricks.v1+cell": {
     "cellMetadata": {
      "byteLimit": 2048000,
      "rowLimit": 10000
     },
     "inputWidgets": {},
     "nuid": "36d2d0f4-f8d3-4769-8c6d-630c1ea9a703",
     "showTitle": true,
     "tableResultSettingsMap": {},
     "title": "Start Python på nytt"
    }
   },
   "outputs": [],
   "source": [
    "dbutils.library.restartPython()"
   ]
  },
  {
   "cell_type": "code",
   "execution_count": 0,
   "metadata": {
    "application/vnd.databricks.v1+cell": {
     "cellMetadata": {
      "byteLimit": 2048000,
      "rowLimit": 10000
     },
     "inputWidgets": {},
     "nuid": "6ed25264-0c39-47bf-8d2a-0744d926cbca",
     "showTitle": true,
     "tableResultSettingsMap": {},
     "title": "Test agenten"
    }
   },
   "outputs": [],
   "source": [
    "from agent import AGENT\n",
    "\n",
    "AGENT.predict({\"input\": [{\"role\": \"user\", \"content\": \"what is 4*3 in python\"}]})"
   ]
  },
  {
   "cell_type": "code",
   "execution_count": 0,
   "metadata": {
    "application/vnd.databricks.v1+cell": {
     "cellMetadata": {
      "byteLimit": 2048000,
      "rowLimit": 10000
     },
     "inputWidgets": {},
     "nuid": "f64ff174-f745-4611-96a5-c64d3483fc3a",
     "showTitle": true,
     "tableResultSettingsMap": {},
     "title": "Test agenten (streaming)"
    }
   },
   "outputs": [],
   "source": [
    "for chunk in AGENT.predict_stream(\n",
    "    {\"input\": [{\"role\": \"user\", \"content\": \"What is 4*3 in Python?\"}]}\n",
    "):\n",
    "    print(chunk.model_dump(exclude_none=True))"
   ]
  },
  {
   "cell_type": "code",
   "execution_count": 0,
   "metadata": {
    "application/vnd.databricks.v1+cell": {
     "cellMetadata": {},
     "inputWidgets": {},
     "nuid": "1839789e-83c5-4f1d-b6f6-00d0b6c49579",
     "showTitle": true,
     "tableResultSettingsMap": {},
     "title": "Checkpoint"
    }
   },
   "outputs": [],
   "source": [
    "input(\"Vent på resten av klassen! (Enter når klar)\")"
   ]
  },
  {
   "cell_type": "code",
   "execution_count": 0,
   "metadata": {
    "application/vnd.databricks.v1+cell": {
     "cellMetadata": {
      "byteLimit": 2048000,
      "rowLimit": 10000
     },
     "inputWidgets": {},
     "nuid": "d5c83a1f-9237-4813-bdb2-f9e2b96093f6",
     "showTitle": true,
     "tableResultSettingsMap": {},
     "title": "Log model"
    }
   },
   "outputs": [],
   "source": [
    "# Determine Databricks resources to specify for automatic auth passthrough at deployment time\n",
    "import mlflow\n",
    "from agent import UC_TOOL_NAMES, VECTOR_SEARCH_TOOLS, LLM_ENDPOINT_NAME\n",
    "from mlflow.models.resources import DatabricksFunction, DatabricksServingEndpoint, DatabricksVectorSearchIndex\n",
    "from pkg_resources import get_distribution\n",
    "\n",
    "resources = [\n",
    "    DatabricksServingEndpoint(endpoint_name=LLM_ENDPOINT_NAME),\n",
    "    # TODO: Autentiser agenten til til å få bruke vektorsøket\n",
    "    # DatabricksVectorSearchIndex(index_name=\"\")\n",
    "    ]\n",
    "for tool in VECTOR_SEARCH_TOOLS:\n",
    "    resources.extend(tool.resources)\n",
    "for tool_name in UC_TOOL_NAMES:   \n",
    "    resources.append(DatabricksFunction(function_name=tool_name))\n",
    "\n",
    "input_example = {\n",
    "    \"input\": [\n",
    "        {\n",
    "            \"role\": \"user\",\n",
    "            \"content\": \"What is an LLM agent?\"\n",
    "        }\n",
    "    ]\n",
    "}\n",
    "\n",
    "with mlflow.start_run():\n",
    "    logged_agent_info = mlflow.pyfunc.log_model(\n",
    "        name=\"agent\",\n",
    "        python_model=\"agent.py\",\n",
    "        input_example=input_example,\n",
    "        pip_requirements=[\n",
    "            \"databricks-openai\",\n",
    "            \"backoff\",\n",
    "            f\"databricks-connect=={get_distribution('databricks-connect').version}\",\n",
    "        ],\n",
    "        resources=resources,\n",
    "    )"
   ]
  },
  {
   "cell_type": "code",
   "execution_count": 0,
   "metadata": {
    "application/vnd.databricks.v1+cell": {
     "cellMetadata": {
      "byteLimit": 2048000,
      "rowLimit": 10000
     },
     "inputWidgets": {},
     "nuid": "e7e39578-97c6-494d-8e67-0f60ee23ad48",
     "showTitle": true,
     "tableResultSettingsMap": {},
     "title": "Evaluate"
    }
   },
   "outputs": [],
   "source": [
    "import mlflow\n",
    "from mlflow.genai.scorers import RelevanceToQuery, Safety, RetrievalRelevance, RetrievalGroundedness\n",
    "\n",
    "eval_dataset = [\n",
    "    {\n",
    "        \"inputs\": {\n",
    "            \"input\": [\n",
    "                {\n",
    "                    \"role\": \"user\",\n",
    "                    \"content\": \"What is an LLM agent?\"\n",
    "                }\n",
    "            ]\n",
    "        },\n",
    "        \"expected_response\": None\n",
    "    }\n",
    "]\n",
    "\n",
    "eval_results = mlflow.genai.evaluate(\n",
    "    data=eval_dataset,\n",
    "    predict_fn=lambda input: AGENT.predict({\"input\": input}),\n",
    "    scorers=[RelevanceToQuery(), Safety()], # TODO: Legg til flere metrikker for evaluaring\n",
    ")\n",
    "\n",
    "# Review the evaluation results in the MLfLow UI (see console output)"
   ]
  },
  {
   "cell_type": "code",
   "execution_count": 0,
   "metadata": {
    "application/vnd.databricks.v1+cell": {
     "cellMetadata": {
      "byteLimit": 2048000,
      "rowLimit": 10000
     },
     "inputWidgets": {},
     "nuid": "fad06ada-d60d-402b-9320-f9ba14dc54e2",
     "showTitle": true,
     "tableResultSettingsMap": {},
     "title": "Pre-deployment agent validation"
    }
   },
   "outputs": [],
   "source": [
    "mlflow.models.predict(\n",
    "    model_uri=f\"runs:/{logged_agent_info.run_id}/agent\",\n",
    "    input_data={\"input\": [{\"role\": \"user\", \"content\": \"Hello!\"}]},\n",
    "    env_manager=\"uv\",\n",
    ")"
   ]
  },
  {
   "cell_type": "code",
   "execution_count": 0,
   "metadata": {
    "application/vnd.databricks.v1+cell": {
     "cellMetadata": {
      "byteLimit": 2048000,
      "rowLimit": 10000
     },
     "inputWidgets": {},
     "nuid": "fbc9fbdb-0faf-41aa-a125-49fb21dd00f8",
     "showTitle": false,
     "tableResultSettingsMap": {},
     "title": ""
    }
   },
   "outputs": [],
   "source": [
    "%run ./00_config"
   ]
  },
  {
   "cell_type": "code",
   "execution_count": 0,
   "metadata": {
    "application/vnd.databricks.v1+cell": {
     "cellMetadata": {
      "byteLimit": 2048000,
      "rowLimit": 10000
     },
     "inputWidgets": {},
     "nuid": "31fcbffa-f33d-442f-8caf-0dd6c911d363",
     "showTitle": true,
     "tableResultSettingsMap": {},
     "title": "Register the model to Unity Catalog"
    }
   },
   "outputs": [],
   "source": [
    "mlflow.set_registry_uri(\"databricks-uc\")\n",
    "\n",
    "UC_MODEL_NAME = f\"{config['CATALOG']}.{config['SCHEMA']}.{config['MODEL_NAME']}\"\n",
    "\n",
    "# register the model to UC\n",
    "uc_registered_model_info = mlflow.register_model(\n",
    "    model_uri=logged_agent_info.model_uri, name=UC_MODEL_NAME\n",
    ")"
   ]
  },
  {
   "cell_type": "code",
   "execution_count": 0,
   "metadata": {
    "application/vnd.databricks.v1+cell": {
     "cellMetadata": {
      "byteLimit": 2048000,
      "rowLimit": 10000
     },
     "inputWidgets": {},
     "nuid": "bc827606-2130-476b-8fba-5891f84796d2",
     "showTitle": true,
     "tableResultSettingsMap": {},
     "title": "Deploy"
    }
   },
   "outputs": [],
   "source": [
    "from databricks import agents\n",
    "agents.deploy(UC_MODEL_NAME, uc_registered_model_info.version, tags = {\"endpointSource\": \"playground\"})"
   ]
  }
 ],
 "metadata": {
  "application/vnd.databricks.v1+notebook": {
   "computePreferences": {
    "hardware": {
     "accelerator": null,
     "gpuPoolId": null,
     "memory": null
    }
   },
   "dashboards": [],
   "environmentMetadata": {
    "base_environment": "",
    "environment_version": "4"
   },
   "inputWidgetPreferences": null,
   "language": "python",
   "notebookMetadata": {
    "pythonIndentUnit": 4
   },
   "notebookName": "01_create_agent",
   "widgets": {}
  },
  "language_info": {
   "name": "python"
  }
 },
 "nbformat": 4,
 "nbformat_minor": 0
}
