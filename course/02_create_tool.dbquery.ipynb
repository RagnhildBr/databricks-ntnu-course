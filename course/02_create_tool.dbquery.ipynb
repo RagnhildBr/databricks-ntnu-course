{
 "cells": [
  {
   "cell_type": "code",
   "execution_count": 0,
   "metadata": {
    "application/vnd.databricks.v1+cell": {
     "cellMetadata": {
      "byteLimit": 10485760,
      "rowLimit": 1000
     },
     "inputWidgets": {},
     "nuid": "933bba39-f437-403b-901c-db5b9922cd09",
     "showTitle": false,
     "tableResultSettingsMap": {},
     "title": ""
    }
   },
   "outputs": [],
   "source": [
    "-- This is an example of a hosted function that will allow your agent to query a table and retrieve useful insights.\n",
    "-- Select the catalog and schema you want to save the function to and run it.\n",
    "-- Then go back to Playground an add the function by finding it with \"Add existing tool\"\n",
    "CREATE OR REPLACE FUNCTION get_name_from_id(athlete_id BIGINT)\n",
    "RETURNS STRING\n",
    "LANGUAGE SQL\n",
    "COMMENT 'Returns the full name of a person given an id.'\n",
    "RETURN (\n",
    "  SELECT Name\n",
    "  FROM knowit.training.athlete_events\n",
    "  WHERE ID = athlete_id\n",
    "  LIMIT 1\n",
    ");"
   ]
  }
 ],
 "metadata": {
  "application/vnd.databricks.v1+notebook": {
   "computePreferences": null,
   "dashboards": [],
   "environmentMetadata": null,
   "inputWidgetPreferences": null,
   "language": "sql",
   "notebookMetadata": {
    "pythonIndentUnit": 4,
    "sqlQueryOptions": {
     "applyAutoLimit": true,
     "catalog": "folkgpt_dev",
     "schema": "flowcase_enriched"
    }
   },
   "notebookName": "02_create_tool.dbquery.ipynb",
   "widgets": {}
  },
  "language_info": {
   "name": "sql"
  }
 },
 "nbformat": 4,
 "nbformat_minor": 0
}
